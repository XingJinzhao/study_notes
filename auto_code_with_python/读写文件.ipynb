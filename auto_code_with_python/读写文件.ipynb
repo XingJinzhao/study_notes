{
 "cells": [
  {
   "cell_type": "markdown",
   "metadata": {},
   "source": [
    "## 文件名与路径"
   ]
  },
  {
   "cell_type": "code",
   "execution_count": 1,
   "metadata": {},
   "outputs": [
    {
     "data": {
      "text/plain": [
       "'user\\\\bin\\\\spam'"
      ]
     },
     "execution_count": 1,
     "metadata": {},
     "output_type": "execute_result"
    }
   ],
   "source": [
    "import os \n",
    "os.path.join('user','bin','spam')"
   ]
  },
  {
   "cell_type": "code",
   "execution_count": 2,
   "metadata": {},
   "outputs": [
    {
     "name": "stdout",
     "output_type": "stream",
     "text": [
      "C:\\Users\\asweigart\\accounts.txt\n",
      "C:\\Users\\asweigart\\details.csv\n",
      "C:\\Users\\asweigart\\invite.docx\n"
     ]
    }
   ],
   "source": [
    "myFiles = ['accounts.txt', 'details.csv', 'invite.docx']\n",
    "for filename in myFiles:\n",
    "    print(os.path.join('C:\\\\Users\\\\asweigart', filename))"
   ]
  },
  {
   "cell_type": "code",
   "execution_count": 3,
   "metadata": {},
   "outputs": [
    {
     "data": {
      "text/plain": [
       "'C:\\\\Users\\\\xingjinzhao\\\\Desktop\\\\xg'"
      ]
     },
     "execution_count": 3,
     "metadata": {},
     "output_type": "execute_result"
    }
   ],
   "source": [
    "#当前工作目录\n",
    "os.getcwd()"
   ]
  },
  {
   "cell_type": "code",
   "execution_count": 4,
   "metadata": {},
   "outputs": [],
   "source": [
    "os.chdir('C:\\\\Users\\\\xingjinzhao\\\\Desktop')"
   ]
  },
  {
   "cell_type": "code",
   "execution_count": 6,
   "metadata": {},
   "outputs": [],
   "source": [
    "#创建新文件夹\n",
    "os.makedirs('C:\\\\Users\\\\xingjinzhao\\\\Desktop\\\\xg\\\\ab')"
   ]
  },
  {
   "cell_type": "code",
   "execution_count": 8,
   "metadata": {},
   "outputs": [
    {
     "data": {
      "text/plain": [
       "True"
      ]
     },
     "execution_count": 8,
     "metadata": {},
     "output_type": "execute_result"
    }
   ],
   "source": [
    "os.path.abspath('.') # 返回绝对路径\n",
    "os.path.abspath('.') #绝对true　相对false\n",
    "os.path.isabs(os.path.abspath('.')) "
   ]
  },
  {
   "cell_type": "code",
   "execution_count": 9,
   "metadata": {},
   "outputs": [
    {
     "data": {
      "text/plain": [
       "'Users'"
      ]
     },
     "execution_count": 9,
     "metadata": {},
     "output_type": "execute_result"
    }
   ],
   "source": [
    "os.path.relpath('C:\\\\Users', 'C:\\\\')#返回start到path相对路径字符串"
   ]
  },
  {
   "cell_type": "code",
   "execution_count": 12,
   "metadata": {},
   "outputs": [
    {
     "data": {
      "text/plain": [
       "'C:\\\\Users\\\\xingjinzhao\\\\Desktop\\\\xg'"
      ]
     },
     "execution_count": 12,
     "metadata": {},
     "output_type": "execute_result"
    }
   ],
   "source": [
    "os.path.dirname('C:\\\\Users\\\\xingjinzhao\\\\Desktop\\\\xg\\\\ab')#将返回一个字符串，它包含 path 参数中最后一个斜杠之前的所有内容。"
   ]
  },
  {
   "cell_type": "code",
   "execution_count": 13,
   "metadata": {},
   "outputs": [
    {
     "data": {
      "text/plain": [
       "'ab'"
      ]
     },
     "execution_count": 13,
     "metadata": {},
     "output_type": "execute_result"
    }
   ],
   "source": [
    "os.path.basename('C:\\\\Users\\\\xingjinzhao\\\\Desktop\\\\xg\\\\ab')#将返回一个字符串，它包含 path 参数中最后一个斜杠之后的所有内容"
   ]
  },
  {
   "cell_type": "code",
   "execution_count": 17,
   "metadata": {},
   "outputs": [
    {
     "data": {
      "text/plain": [
       "('C:\\\\Users\\\\xingjinzhao\\\\Desktop\\\\xg', 'ab')"
      ]
     },
     "execution_count": 17,
     "metadata": {},
     "output_type": "execute_result"
    }
   ],
   "source": [
    "#同时需要一个路径的目录名称和基本名称， 就可以调用 os.path.split()，获得这两个字符串的元组\n",
    "os.path.split('C:\\\\Users\\\\xingjinzhao\\\\Desktop\\\\xg\\\\ab')"
   ]
  },
  {
   "cell_type": "code",
   "execution_count": 18,
   "metadata": {},
   "outputs": [
    {
     "data": {
      "text/plain": [
       "4096"
      ]
     },
     "execution_count": 18,
     "metadata": {},
     "output_type": "execute_result"
    }
   ],
   "source": [
    "#查看文件大小和文件夹内容\n",
    "os.path.getsize('C:\\\\Users\\\\xingjinzhao\\\\Desktop\\\\xg') #文件的字节数"
   ]
  },
  {
   "cell_type": "code",
   "execution_count": 19,
   "metadata": {},
   "outputs": [
    {
     "data": {
      "text/plain": [
       "['.ipynb_checkpoints',\n",
       " 'ab',\n",
       " '机器学习_西瓜书_清晰版.pdf',\n",
       " '机器学习西瓜书20200221.xmind',\n",
       " '模式匹配与正则表达式.ipynb',\n",
       " '西瓜书决策树.xmind',\n",
       " '读写文件.ipynb']"
      ]
     },
     "execution_count": 19,
     "metadata": {},
     "output_type": "execute_result"
    }
   ],
   "source": [
    "os.listdir('C:\\\\Users\\\\xingjinzhao\\\\Desktop\\\\xg') #文件名字符串的列表，包含 path 参数中的每个文件"
   ]
  },
  {
   "cell_type": "markdown",
   "metadata": {},
   "source": [
    "## 文件读些过程"
   ]
  },
  {
   "cell_type": "code",
   "execution_count": 28,
   "metadata": {},
   "outputs": [
    {
     "data": {
      "text/plain": [
       "<_io.TextIOWrapper name='C:\\\\Users\\\\xingjinzhao\\\\Desktop\\\\xg\\\\hello.txt' mode='r' encoding='cp936'>"
      ]
     },
     "execution_count": 28,
     "metadata": {},
     "output_type": "execute_result"
    }
   ],
   "source": [
    "#用 open()函数打开文件\n",
    "helloFile = open('C:\\\\Users\\\\xingjinzhao\\\\Desktop\\\\xg\\\\hello.txt')\n",
    "helloFile"
   ]
  },
  {
   "cell_type": "code",
   "execution_count": 29,
   "metadata": {},
   "outputs": [
    {
     "data": {
      "text/plain": [
       "'hello'"
      ]
     },
     "execution_count": 29,
     "metadata": {},
     "output_type": "execute_result"
    }
   ],
   "source": [
    "#读取文件内容\n",
    "helloContent = helloFile.read()\n",
    "helloContent"
   ]
  },
  {
   "cell_type": "code",
   "execution_count": 31,
   "metadata": {},
   "outputs": [
    {
     "data": {
      "text/plain": [
       "[\"When, in disgrace with fortune and men's eyes,\\n\",\n",
       " 'I all alone beweep my outcast state,\\n',\n",
       " 'And trouble deaf heaven with my bootless cries,\\n',\n",
       " 'And look upon myself and curse my fate,']"
      ]
     },
     "execution_count": 31,
     "metadata": {},
     "output_type": "execute_result"
    }
   ],
   "source": [
    "sonnetFile = open('C:\\\\Users\\\\xingjinzhao\\\\Desktop\\\\xg\\\\sonnet29.txt')\n",
    "sonnetFile.readlines()"
   ]
  },
  {
   "cell_type": "markdown",
   "metadata": {},
   "source": [
    "### 写入文件"
   ]
  },
  {
   "cell_type": "code",
   "execution_count": 32,
   "metadata": {},
   "outputs": [
    {
     "data": {
      "text/plain": [
       "13"
      ]
     },
     "execution_count": 32,
     "metadata": {},
     "output_type": "execute_result"
    }
   ],
   "source": [
    "baconFile = open('bacon.txt', 'w')\n",
    "baconFile.write('Hello world!\\n')"
   ]
  },
  {
   "cell_type": "code",
   "execution_count": 33,
   "metadata": {},
   "outputs": [
    {
     "data": {
      "text/plain": [
       "25"
      ]
     },
     "execution_count": 33,
     "metadata": {},
     "output_type": "execute_result"
    }
   ],
   "source": [
    "baconFile.close()\n",
    "baconFile = open('bacon.txt', 'a')\n",
    "baconFile.write('Bacon is not a vegetable.')"
   ]
  },
  {
   "cell_type": "code",
   "execution_count": 34,
   "metadata": {},
   "outputs": [
    {
     "name": "stdout",
     "output_type": "stream",
     "text": [
      "Hello world!\n",
      "Bacon is not a vegetable.\n"
     ]
    }
   ],
   "source": [
    "baconFile.close()\n",
    "baconFile = open('bacon.txt')\n",
    "content = baconFile.read()\n",
    "baconFile.close()\n",
    "print(content)"
   ]
  },
  {
   "cell_type": "markdown",
   "metadata": {},
   "source": [
    "\n",
    "首先， 我们以写模式打开 bacon.txt。因为还没有 bacon.txt， Python 就创建了一\n",
    "个。在打开的文件上调用 write()，并向 write()传入字符串参数'Hello world! \\n'，将\n",
    "字符串写入文件， 并返回写入的字符个数， 包括换行符。然后关闭该文件。    \n",
    "为了将文本添加到文件已有的内容，而不是取代我们刚刚写入的字符串，我们\n",
    "就以添加模式打开该文件。向该文件写入'Bacon is not a vegetable.'，并关闭它。   \n",
    "最后，为了将文件的内容打印到屏幕上，我们以默认的读模式打开该文件，调用 read()，\n",
    "将得到的内容保存在 content 中，关闭该文件，并打印 content。     \n",
    "请注意， write()方法不会像 print()函数那样，在字符串的末尾自动添加换行字\n",
    "符。必须自己添加该字符。"
   ]
  },
  {
   "cell_type": "markdown",
   "metadata": {},
   "source": [
    "## 用 shelve 模块保存变量"
   ]
  },
  {
   "cell_type": "markdown",
   "metadata": {},
   "source": [
    "######\n",
    "利用 shelve 模块， 你可以将 Python 程序中的变量保存到二进制的 shelf 文件中。\n",
    "这样， 程序就可以从硬盘中恢复变量的数据。 shelve 模块让你在程序中添加“保存”\n",
    "和“打开” 功能。例如， 如果运行一个程序，并输入了一些配置设置，就可以将这\n",
    "些设置保存到一个 shelf 文件，然后让程序下一次运行时加载它们。"
   ]
  },
  {
   "cell_type": "code",
   "execution_count": 35,
   "metadata": {},
   "outputs": [],
   "source": [
    "import shelve\n",
    "shelfFile = shelve.open('mydata')\n",
    "cats = ['Zophie', 'Pooka', 'Simon']\n",
    "shelfFile['cats'] = cats\n",
    "shelfFile.close()"
   ]
  },
  {
   "cell_type": "code",
   "execution_count": 36,
   "metadata": {},
   "outputs": [
    {
     "data": {
      "text/plain": [
       "shelve.DbfilenameShelf"
      ]
     },
     "execution_count": 36,
     "metadata": {},
     "output_type": "execute_result"
    }
   ],
   "source": [
    "shelfFile = shelve.open('mydata')\n",
    "type(shelfFile)"
   ]
  },
  {
   "cell_type": "code",
   "execution_count": 37,
   "metadata": {},
   "outputs": [
    {
     "data": {
      "text/plain": [
       "['Zophie', 'Pooka', 'Simon']"
      ]
     },
     "execution_count": 37,
     "metadata": {},
     "output_type": "execute_result"
    }
   ],
   "source": [
    "shelfFile['cats']"
   ]
  },
  {
   "cell_type": "code",
   "execution_count": 38,
   "metadata": {},
   "outputs": [
    {
     "data": {
      "text/plain": [
       "['Zophie', 'Pooka', 'Simon']"
      ]
     },
     "execution_count": 38,
     "metadata": {},
     "output_type": "execute_result"
    }
   ],
   "source": [
    "shelfFile['cats']"
   ]
  },
  {
   "cell_type": "code",
   "execution_count": 39,
   "metadata": {},
   "outputs": [
    {
     "data": {
      "text/plain": [
       "['cats']"
      ]
     },
     "execution_count": 39,
     "metadata": {},
     "output_type": "execute_result"
    }
   ],
   "source": [
    "shelfFile = shelve.open('mydata')\n",
    "list(shelfFile.keys())"
   ]
  },
  {
   "cell_type": "code",
   "execution_count": 40,
   "metadata": {},
   "outputs": [
    {
     "data": {
      "text/plain": [
       "[['Zophie', 'Pooka', 'Simon']]"
      ]
     },
     "execution_count": 40,
     "metadata": {},
     "output_type": "execute_result"
    }
   ],
   "source": [
    "list(shelfFile.values())"
   ]
  },
  {
   "cell_type": "code",
   "execution_count": 41,
   "metadata": {},
   "outputs": [],
   "source": [
    "shelfFile.close()"
   ]
  },
  {
   "cell_type": "code",
   "execution_count": 43,
   "metadata": {},
   "outputs": [],
   "source": [
    "import pprint"
   ]
  },
  {
   "cell_type": "code",
   "execution_count": 44,
   "metadata": {},
   "outputs": [],
   "source": [
    "cats = [{'name': 'Zophie', 'desc': 'chubby'}, {'name': 'Pooka', 'desc': 'fluffy'}]"
   ]
  },
  {
   "cell_type": "code",
   "execution_count": 45,
   "metadata": {},
   "outputs": [
    {
     "data": {
      "text/plain": [
       "\"[{'desc': 'chubby', 'name': 'Zophie'}, {'desc': 'fluffy', 'name': 'Pooka'}]\""
      ]
     },
     "execution_count": 45,
     "metadata": {},
     "output_type": "execute_result"
    }
   ],
   "source": [
    "pprint.pformat(cats)"
   ]
  },
  {
   "cell_type": "code",
   "execution_count": 46,
   "metadata": {},
   "outputs": [
    {
     "data": {
      "text/plain": [
       "83"
      ]
     },
     "execution_count": 46,
     "metadata": {},
     "output_type": "execute_result"
    }
   ],
   "source": [
    "fileObj = open('myCats.py', 'w')\n",
    "fileObj.write('cats = ' + pprint.pformat(cats) + '\\n')"
   ]
  },
  {
   "cell_type": "code",
   "execution_count": 47,
   "metadata": {},
   "outputs": [],
   "source": [
    "fileObj.close()"
   ]
  },
  {
   "cell_type": "markdown",
   "metadata": {},
   "source": [
    "###### \n",
    "这里，我们导入了 pprint，以便能使用 pprint.pformat()。我们有一个字典的列表，\n",
    "保存在变量 cats 中。为了让 cats 中的列表在关闭交互式环境后仍然可用，我们利用\n",
    "pprint.pformat()，将它返回为一个字符串。当我们有了 cats 中数据的字符串形式，\n",
    "就很容易将该字符串写入一个文件，我们将它命名为 myCats.py。\n",
    "\n",
    "创建一个.py 文件（而不是利用 shelve 模块保存变量）的好处在于， 因为它是\n",
    "一个文本文件， 所以任何人都可以用一个简单的文本编辑器读取和修改该文件的内\n",
    "容。但是， 对于大多数应用， 利用 shelve 模块来保存数据， 是将变量保存到文件的\n",
    "最佳方式。只有基本数据类型， 诸如整型、 浮点型、 字符串、 列表和字典， 可以作\n",
    "为简单文本写入一个文件。例如， File 对象就不能够编码为文本。"
   ]
  },
  {
   "cell_type": "code",
   "execution_count": 48,
   "metadata": {},
   "outputs": [
    {
     "data": {
      "text/plain": [
       "[{'desc': 'chubby', 'name': 'Zophie'}, {'desc': 'fluffy', 'name': 'Pooka'}]"
      ]
     },
     "execution_count": 48,
     "metadata": {},
     "output_type": "execute_result"
    }
   ],
   "source": [
    "import myCats\n",
    "myCats.cats\n"
   ]
  },
  {
   "cell_type": "code",
   "execution_count": 49,
   "metadata": {},
   "outputs": [
    {
     "data": {
      "text/plain": [
       "{'desc': 'chubby', 'name': 'Zophie'}"
      ]
     },
     "execution_count": 49,
     "metadata": {},
     "output_type": "execute_result"
    }
   ],
   "source": [
    "myCats.cats[0]"
   ]
  },
  {
   "cell_type": "code",
   "execution_count": 50,
   "metadata": {},
   "outputs": [
    {
     "data": {
      "text/plain": [
       "'Zophie'"
      ]
     },
     "execution_count": 50,
     "metadata": {},
     "output_type": "execute_result"
    }
   ],
   "source": [
    "myCats.cats[0]['name']"
   ]
  },
  {
   "cell_type": "code",
   "execution_count": 61,
   "metadata": {},
   "outputs": [],
   "source": [
    "os.chdir('C:\\\\Users\\\\xingjinzhao\\\\Desktop\\\\xg\\\\ab')"
   ]
  },
  {
   "cell_type": "markdown",
   "metadata": {},
   "source": [
    "## 8.5 项目： 生成随机的测验试卷文件"
   ]
  },
  {
   "cell_type": "code",
   "execution_count": 62,
   "metadata": {},
   "outputs": [],
   "source": [
    "import random  #因为这个程序将随机安排问题和答案的次序，所以需要导入 random 模块， 以便利用其中的函数。"
   ]
  },
  {
   "cell_type": "code",
   "execution_count": 63,
   "metadata": {},
   "outputs": [],
   "source": [
    "capitals = {'Alabama': 'Montgomery', 'Alaska': 'Juneau', 'Arizona': 'Phoenix',\n",
    "'Arkansas': 'Little Rock', 'California': 'Sacramento', 'Colorado': 'Denver',\n",
    "'Connecticut': 'Hartford', 'Delaware': 'Dover', 'Florida': 'Tallahassee',\n",
    "'Georgia': 'Atlanta', 'Hawaii': 'Honolulu', 'Idaho': 'Boise', 'Illinois':\n",
    "'Springfield', 'Indiana': 'Indianapolis', 'Iowa': 'Des Moines', 'Kansas':\n",
    "'Topeka', 'Kentucky': 'Frankfort', 'Louisiana': 'Baton Rouge', 'Maine':\n",
    "'Augusta', 'Maryland': 'Annapolis', 'Massachusetts': 'Boston', 'Michigan':\n",
    "'Lansing', 'Minnesota': 'Saint Paul', 'Mississippi': 'Jackson', 'Missouri':\n",
    "'Jefferson City', 'Montana': 'Helena', 'Nebraska': 'Lincoln', 'Nevada':\n",
    "'Carson City', 'New Hampshire': 'Concord', 'New Jersey': 'Trenton', 'Mexico':\n",
    "'Santa Fe', 'New York': 'Albany', 'North Carolina': 'Raleigh',\n",
    "'North Dakota': 'Bismarck', 'Ohio': 'Columbus', 'Oklahoma': 'Oklahoma City',\n",
    "'Oregon': 'Salem', 'Pennsylvania': 'Harrisburg', 'Rhode Island': 'Providence',\n",
    "'South Carolina': 'Columbia', 'South Dakota': 'Pierre', 'Tennessee':\n",
    "'Nashville', 'Texas': 'Austin', 'Utah': 'Salt Lake City', 'Vermont':\n",
    "'Montpelier', 'Virginia': 'Richmond', 'Washington': 'Olympia', 'WestVirginia':\n",
    "'Charleston', 'Wisconsin': 'Madison', 'Wyoming': 'Cheyenne'}\n",
    "# capitals 变量含一个字典，以美国州名作为键，以州首府作 为值。"
   ]
  },
  {
   "cell_type": "markdown",
   "metadata": {},
   "source": [
    "### 第 2 步：创建测验文件，并打乱问题的次序"
   ]
  },
  {
   "cell_type": "code",
   "execution_count": 64,
   "metadata": {},
   "outputs": [],
   "source": [
    "#因为你希望创建 35 份测验试卷，所以实际生成测验试卷和答案文件的代码（暂时用 TODO 注释标注）\n",
    "#会放在一个 for 循环中，循环 35 次（这个数字可以改变，生成任何数目的测验试卷文件）\n",
    "for quizNum in range(35):\n",
    "    # TODO: Create the quiz and answer key files.\n",
    "    # TODO: Write out the header for the quiz.\n",
    "    # TODO: Shuffle the order of the states.\n",
    "    # TODO: Loop through all 50 states, making a question for each.\n",
    "    quizFile = open('capitalsquiz%s.txt'%(quizNum +1),'w')\n",
    "    answerKeyFile=open('capitalsquiz_answers%s.txt'%(quizNum +1),'w')\n",
    "    #测验试卷的文件名将是capitalsquiz<N>.txt，其中<N>是该测验试卷的唯一编号，来自于 quizNum，即 for 循环的计数器。\n",
    "    #针对 capitalsquiz<N>.txt 的答案将保存在一个文本文件中，名为 capitalsquiz_answers<N>.txt。\n",
    "    #每次执行循环， 'capitalsquiz%s.txt'和'capitalsquiz_answers%s.txt'中的占位符%s 都将被(quizNum + 1)取代，\n",
    "    #所以第一个测验试卷和答案将是 capitalsquiz1.txt 和 capitalsquiz_answers1.txt。\n",
    "    #在 open()函数调用将创建这些文件，以'w'作为第二个参数，以写模式打开它们。\n",
    "    quizFile.write('Name:\\n\\Date:\\n\\nPeriod:\\n\\n')\n",
    "    quizFile.write((' '*20)+'State Capitals Quiz (Form %s)' %(quizNum +1))\n",
    "    quizFile.write('\\n\\n')\n",
    "    # write()语句创建了测验标题， 让学生填写。\n",
    "    states =list(capitals.keys())\n",
    "    random.shuffle(states)\n",
    "    #利用 random.shuffle()函数， 创建了美国州名的随机列表。 该函数重新随机排列传递给它的列表中的值。"
   ]
  },
  {
   "cell_type": "markdown",
   "metadata": {},
   "source": [
    "### 第 3 步：创建答案选项"
   ]
  },
  {
   "cell_type": "code",
   "execution_count": 65,
   "metadata": {},
   "outputs": [],
   "source": [
    "for questionNum in range(50):\n",
    "    correctAnswer = capitals[states[questionNum]]\n",
    "    #正确的答案很容易得到，它作为一个值保存在 capitals 字典中。\n",
    "    #这个循环将遍历打乱过的 states 列表中的州，从 states[0]到 states[49]， \n",
    "    #在 capitals 中找到每个州，将该州对应的首府保存在 correctAnswer 中\n",
    "    wrongAnswers = list(capitals.values())\n",
    "    #可能的错误答案列表需要一点技巧。你可以从 capitals 字典中复制所有的值\n",
    "    del wrongAnswers[wrongAnswers.index(correctAnswer)]\n",
    "    #删除正确的答案\n",
    "    wrongAnswers = random.sample(wrongAnswers, 3)\n",
    "    #然后从该列表中选择 3 个随机的值,random.sample()函数使得这种选择很容易，\n",
    "    #它的第一个参数是你希望选择的列表， 第二个参数是你希望选择的值的个数。\n",
    "    answerOptions = wrongAnswers + [correctAnswer]\n",
    "    #完整的答案选项列表是这 3 个错误答案与正确答案的组合\n",
    "    random.shuffle(answerOptions)\n",
    "    #答案需要随机排列\n",
    "    ### 第 4 步：将内容写入测验试卷和答案文件\n",
    "    #剩下来就是将问题写入测验试卷文件，将答案写入答案文件\n",
    "    quizFile.write('%s. What is the capital of %s?\\n' % (questionNum + 1,states[questionNum]))\n",
    "    for i in range(4):\n",
    "    #一个遍历整数 0 到 3 的 for 循环，将答案选项写入 answerOptions 列表\n",
    "        quizFile.write(' %s. %s\\n' % ('ABCD'[i], answerOptions[i]))\n",
    "    quizFile.write('\\n')\n",
    "    #表达式'ABCD'[i]将字符串'ABCD'看成是一个数组，它在循环的每次迭代中， 将分别求值为'A'、 'B'、 'C'和'D'。\n",
    "    answerKeyFile.write('%s. %s\\n' % (questionNum + 1, 'ABCD'[answerOptions.index(correctAnswer)]))\n",
    "    #表达式 answerOptions.index(correctAnswer)将在随机排序的答案选项中，找到正确答案的整数下标，\n",
    "    #并且'ABCD'[answerOptions.index(correctAnswer)]将求值为正确答案的字母，写入到答案文件中。\n",
    "quizFile.close()\n",
    "answerKeyFile.close()"
   ]
  },
  {
   "cell_type": "markdown",
   "metadata": {},
   "source": []
  },
  {
   "cell_type": "code",
   "execution_count": null,
   "metadata": {},
   "outputs": [],
   "source": []
  },
  {
   "cell_type": "code",
   "execution_count": null,
   "metadata": {},
   "outputs": [],
   "source": []
  },
  {
   "cell_type": "code",
   "execution_count": null,
   "metadata": {},
   "outputs": [],
   "source": []
  }
 ],
 "metadata": {
  "kernelspec": {
   "display_name": "Python 3",
   "language": "python",
   "name": "python3"
  },
  "language_info": {
   "codemirror_mode": {
    "name": "ipython",
    "version": 3
   },
   "file_extension": ".py",
   "mimetype": "text/x-python",
   "name": "python",
   "nbconvert_exporter": "python",
   "pygments_lexer": "ipython3",
   "version": "3.7.0"
  }
 },
 "nbformat": 4,
 "nbformat_minor": 2
}
