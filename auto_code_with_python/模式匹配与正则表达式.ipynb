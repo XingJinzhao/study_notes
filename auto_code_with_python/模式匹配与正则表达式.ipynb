{
 "cells": [
  {
   "cell_type": "markdown",
   "metadata": {},
   "source": [
    "#### 不用正则表达式查找文本模式\n",
    "假设你希望在字符串中查找电话号码。你知道模式： 3 个数字， 一个短横线， 3\n",
    "个数字， 一个短横线，再是 4 个数字。例如： 415-555-4242。\n",
    "假定我们用一个名为 isPhoneNumber()的函数， 来检查字符串是否匹配模式，它\n",
    "返回 True 或 False。打开一个新的文件编辑器窗口， 输入以下代码， 然后保存为\n",
    "isPhoneNumber.py："
   ]
  },
  {
   "cell_type": "code",
   "execution_count": 3,
   "metadata": {},
   "outputs": [],
   "source": [
    "def isPhoneNumber(text):\n",
    "    if len(text)!=12:\n",
    "        return False\n",
    "    for i in range(0,3):\n",
    "        if not text[i].isdecimal():\n",
    "            return False\n",
    "    if text[3] !='-':\n",
    "        return False\n",
    "    for i in range(4,7):\n",
    "        if not text[i].isdecimal():\n",
    "            return False\n",
    "    if text[7]!='-':\n",
    "        return False\n",
    "    for i in range(8,12):\n",
    "        if not text[i].isdecimal():\n",
    "            return False\n",
    "    return True"
   ]
  },
  {
   "cell_type": "code",
   "execution_count": 4,
   "metadata": {},
   "outputs": [
    {
     "data": {
      "text/plain": [
       "True"
      ]
     },
     "execution_count": 4,
     "metadata": {},
     "output_type": "execute_result"
    }
   ],
   "source": [
    "isPhoneNumber('414-555-4242')"
   ]
  },
  {
   "cell_type": "code",
   "execution_count": 5,
   "metadata": {},
   "outputs": [
    {
     "data": {
      "text/plain": [
       "False"
      ]
     },
     "execution_count": 5,
     "metadata": {},
     "output_type": "execute_result"
    }
   ],
   "source": [
    "isPhoneNumber('Moshi')"
   ]
  },
  {
   "cell_type": "code",
   "execution_count": 9,
   "metadata": {},
   "outputs": [
    {
     "name": "stdout",
     "output_type": "stream",
     "text": [
      "Phone number found:415-555-1011\n",
      "Phone number found:415-555-9999\n",
      "Done\n"
     ]
    }
   ],
   "source": [
    "message = 'Call me at 415-555-1011 tomorrow. 415-555-9999 is my office.'\n",
    "for i in range(len(message)):\n",
    "    chunk = message[i:i+12]\n",
    "    if isPhoneNumber(chunk):\n",
    "        print('Phone number found:'+chunk)\n",
    "print('Done')\n",
    "'''\n",
    "在 for 循环的每一次迭代中， 取自 message 的一段新的 12 个字符被赋给变量\n",
    "chunk。例如， 在第一次迭代， i 是 0， chunk 被赋值为 message[0:12]（即字符串'Call\n",
    "me at 4'）。在下一次迭代， i 是 1， chunk 被赋值为 message[1:13]（字符串'all me at 41'）。\n",
    "将 chunk 传递给 isPhoneNumber()，看看它是否符合电话号码的模式。如果符\n",
    "合，就打印出这段文本。\n",
    "继续遍历 message，最终 chunk 中的 12 个字符会是一个电话号码。该循环遍历\n",
    "了整个字符串，测试了每一段 12 个字符，打印出所有满足 isPhoneNumber()的 chunk。\n",
    "当我们遍历完 message，就打印出 Done\n",
    "'''"
   ]
  },
  {
   "cell_type": "markdown",
   "metadata": {},
   "source": [
    "#### 创建正则表达式对象"
   ]
  },
  {
   "cell_type": "code",
   "execution_count": 10,
   "metadata": {},
   "outputs": [],
   "source": [
    "import re"
   ]
  },
  {
   "cell_type": "code",
   "execution_count": 11,
   "metadata": {},
   "outputs": [],
   "source": [
    "phoneNumRegex= re.compile(r'\\d\\d\\d-\\d\\d\\d-\\d\\d\\d\\d')"
   ]
  },
  {
   "cell_type": "markdown",
   "metadata": {},
   "source": [
    "#### 匹配Regex对象\n",
    "Regex 对象的 search()方法查找传入的字符串， 寻找该正则表达式的所有匹配。如\n",
    "果字符串中没有找到该正则表达式模式， search()方法将返回 None。如果找到了该模式，\n",
    "search()方法将返回一个 Match 对象。 Match 对象有一个 group()方法，它返回被查找字\n",
    "符串中实际匹配的文本（稍后我会解释分组）。"
   ]
  },
  {
   "cell_type": "code",
   "execution_count": 12,
   "metadata": {},
   "outputs": [
    {
     "name": "stdout",
     "output_type": "stream",
     "text": [
      "Phone number found:415-555-4242\n"
     ]
    }
   ],
   "source": [
    "mo=phoneNumRegex.search('My number is 415-555-4242')\n",
    "print('Phone number found:'+mo.group())\n",
    "'''\n",
    "变量名 mo 是一个通用的名称， 用于 Match 对象。这个例子可能初看起来有点\n",
    "复杂， 但它比前面的 isPhoneNumber.py 程序要短很多， 并且做的事情一样。\n",
    "这里， 我们将期待的模式传递给 re.compile()， 并将得到的 Regex 对象保存在\n",
    "phoneNumRegex 中。然后我们在 phoneNumRegex 上调用 search()， 向它传入想查找\n",
    "的字符串。查找的结果保存在变量 mo 中。在这个例子里， 我们知道模式会在这个\n",
    "字符串中找到， 所以我们知道会返回一个 Match 对象。 知道 mo 包含一个 Match 对\n",
    "象， 而不是空值 None，我们就可以在 mo 变量上调用 group()， 返回匹配的结果。\n",
    "'''"
   ]
  },
  {
   "cell_type": "markdown",
   "metadata": {},
   "source": [
    "### 7.3 用正则表达式匹配更多模式\n"
   ]
  },
  {
   "cell_type": "markdown",
   "metadata": {},
   "source": [
    "#### 利用括号分组\n",
    "添加括号将在正则表达式中创建“分组”：\n",
    "(\\d\\d\\d)-(\\d\\d\\d-\\d\\d\\d\\d)。然后可以使用 group()匹配对象方法，从一个分组中获取匹\n",
    "配的文本。\n",
    "正则表达式字符串中的第一对括号是第 1 组。第二对括号是第 2 组。向 group()\n",
    "匹配对象方法传入整数 1 或 2， 就可以取得匹配文本的不同部分。 向 group()方法传\n",
    "入 0 或不传入参数， 将返回整个匹配的文本。在交互式环境中输入以下代码"
   ]
  },
  {
   "cell_type": "code",
   "execution_count": 15,
   "metadata": {},
   "outputs": [
    {
     "data": {
      "text/plain": [
       "('415', '555-4242', '415-555-4242', '415-555-4242', ('415', '555-4242'))"
      ]
     },
     "execution_count": 15,
     "metadata": {},
     "output_type": "execute_result"
    }
   ],
   "source": [
    "phoneNumRegex = re.compile(r'(\\d\\d\\d)-(\\d\\d\\d-\\d\\d\\d\\d)')\n",
    "mo = phoneNumRegex.search('My number is 415-555-4242.')\n",
    "mo.group(1),mo.group(2),mo.group(0),mo.group(),mo.groups()"
   ]
  },
  {
   "cell_type": "code",
   "execution_count": 17,
   "metadata": {},
   "outputs": [
    {
     "data": {
      "text/plain": [
       "'(415)'"
      ]
     },
     "execution_count": 17,
     "metadata": {},
     "output_type": "execute_result"
    }
   ],
   "source": [
    "phoneNumRegex = re.compile(r'(\\(\\d\\d\\d\\)) (\\d\\d\\d-\\d\\d\\d\\d)')\n",
    "mo = phoneNumRegex.search('My phone number is (415) 555-4242.')\n",
    "mo.group(1)"
   ]
  },
  {
   "cell_type": "markdown",
   "metadata": {},
   "source": [
    "#### 用管道匹配多个分组\n",
    "字符|称为“管道”。希望匹配许多表达式中的一个时， 就可以使用它。例如，\n",
    "正则表达式 r'Batman|Tina Fey'将匹配'Batman'或'Tina Fey'。"
   ]
  },
  {
   "cell_type": "code",
   "execution_count": 19,
   "metadata": {},
   "outputs": [
    {
     "data": {
      "text/plain": [
       "'Batman'"
      ]
     },
     "execution_count": 19,
     "metadata": {},
     "output_type": "execute_result"
    }
   ],
   "source": [
    "heroRegex = re.compile (r'Batman|Tina Fey')\n",
    "mo1 = heroRegex.search('Batman and Tina Fey.')\n",
    "mo1.group()"
   ]
  },
  {
   "cell_type": "markdown",
   "metadata": {},
   "source": [
    "##### \n",
    "也可以使用管道来匹配多个模式中的一个， 作为正则表达式的一部分。例如，第 7 章 模式匹配与正则表达式\n",
    "假设你希望匹配'Batman'、 'Batmobile'、 'Batcopter'和'Batbat'中任意一个。因为所有这\n",
    "些字符串都以 Bat 开始， 所以如果能够只指定一次前缀， 就很方便。这可以通过括\n",
    "号实现。在交互式环境中输入以下代码："
   ]
  },
  {
   "cell_type": "code",
   "execution_count": 21,
   "metadata": {},
   "outputs": [
    {
     "data": {
      "text/plain": [
       "'Batmobile'"
      ]
     },
     "execution_count": 21,
     "metadata": {},
     "output_type": "execute_result"
    }
   ],
   "source": [
    "batRegex = re.compile(r'Bat(man|mobile|copter|bat)')\n",
    "mo = batRegex.search('Batmobile lost a wheel')\n",
    "mo.group()"
   ]
  },
  {
   "cell_type": "code",
   "execution_count": 22,
   "metadata": {},
   "outputs": [
    {
     "data": {
      "text/plain": [
       "'mobile'"
      ]
     },
     "execution_count": 22,
     "metadata": {},
     "output_type": "execute_result"
    }
   ],
   "source": [
    "mo.group(1)"
   ]
  },
  {
   "cell_type": "markdown",
   "metadata": {},
   "source": [
    "##### 用问号实现可选匹配\n",
    "有时候， 想匹配的模式是可选的。就是说， 不论这段文本在不在， 正则表达式\n",
    "都会认为匹配。字符?表明它前面的分组在这个模式中是可选的。例如， 在交互式\n",
    "环境中输入以下代码："
   ]
  },
  {
   "cell_type": "code",
   "execution_count": 24,
   "metadata": {},
   "outputs": [
    {
     "data": {
      "text/plain": [
       "'Batman'"
      ]
     },
     "execution_count": 24,
     "metadata": {},
     "output_type": "execute_result"
    }
   ],
   "source": [
    "batRegex = re.compile(r'Bat(wo)?man')\n",
    "mo1 = batRegex.search('The Adventures of Batman')\n",
    "mo1.group()"
   ]
  },
  {
   "cell_type": "code",
   "execution_count": 25,
   "metadata": {},
   "outputs": [
    {
     "data": {
      "text/plain": [
       "'Batwoman'"
      ]
     },
     "execution_count": 25,
     "metadata": {},
     "output_type": "execute_result"
    }
   ],
   "source": [
    "mo2 = batRegex.search('The Adventures of Batwoman')\n",
    "mo2.group()"
   ]
  },
  {
   "cell_type": "markdown",
   "metadata": {},
   "source": [
    "##### 用星号匹配零次或多次\n",
    "*（称为星号）意味着“匹配零次或多次”，即星号之前的分组，可以在文本中出Python 编程快速上手——让繁琐工作自动化\n",
    "现任意次。它可以完全不存在，或一次又一次地重复。"
   ]
  },
  {
   "cell_type": "code",
   "execution_count": 26,
   "metadata": {},
   "outputs": [
    {
     "data": {
      "text/plain": [
       "'Batman'"
      ]
     },
     "execution_count": 26,
     "metadata": {},
     "output_type": "execute_result"
    }
   ],
   "source": [
    "batRegex = re.compile(r'Bat(wo)*man')\n",
    "mo1 = batRegex.search('The Adventures of Batman')\n",
    "mo1.group()"
   ]
  },
  {
   "cell_type": "code",
   "execution_count": 27,
   "metadata": {},
   "outputs": [
    {
     "data": {
      "text/plain": [
       "'Batwoman'"
      ]
     },
     "execution_count": 27,
     "metadata": {},
     "output_type": "execute_result"
    }
   ],
   "source": [
    "mo2 = batRegex.search('The Adventures of Batwoman')\n",
    "mo2.group()"
   ]
  },
  {
   "cell_type": "code",
   "execution_count": 28,
   "metadata": {},
   "outputs": [
    {
     "data": {
      "text/plain": [
       "'Batwowowowoman'"
      ]
     },
     "execution_count": 28,
     "metadata": {},
     "output_type": "execute_result"
    }
   ],
   "source": [
    "mo3 = batRegex.search('The Adventures of Batwowowowoman')\n",
    "mo3.group()"
   ]
  },
  {
   "cell_type": "markdown",
   "metadata": {},
   "source": [
    "##### 用加号匹配一次或多次\n",
    "+（加号） 则意味着“匹配一次或多次”。 星号不要求\n",
    "分组出现在匹配的字符串中， 但加号不同， 加号前面的分组必须“至少出现一次”。这不\n",
    "是可选的。在交互式环境中输入以下代码， 把它和前一节的星号正则表达式进行比较："
   ]
  },
  {
   "cell_type": "code",
   "execution_count": 29,
   "metadata": {},
   "outputs": [
    {
     "data": {
      "text/plain": [
       "'Batwoman'"
      ]
     },
     "execution_count": 29,
     "metadata": {},
     "output_type": "execute_result"
    }
   ],
   "source": [
    "batRegex = re.compile(r'Bat(wo)+man')\n",
    "mo1 = batRegex.search('The Adventures of Batwoman')\n",
    "mo1.group()"
   ]
  },
  {
   "cell_type": "code",
   "execution_count": 32,
   "metadata": {},
   "outputs": [
    {
     "data": {
      "text/plain": [
       "'Batwowowoman'"
      ]
     },
     "execution_count": 32,
     "metadata": {},
     "output_type": "execute_result"
    }
   ],
   "source": [
    "mo2=batRegex.search('The Adventures of Batwowowoman')\n",
    "mo2.group()"
   ]
  },
  {
   "cell_type": "code",
   "execution_count": 35,
   "metadata": {},
   "outputs": [
    {
     "data": {
      "text/plain": [
       "True"
      ]
     },
     "execution_count": 35,
     "metadata": {},
     "output_type": "execute_result"
    }
   ],
   "source": [
    "mo3=batRegex.search('The Adventures of Batman')\n",
    "mo3==None\n"
   ]
  },
  {
   "cell_type": "markdown",
   "metadata": {},
   "source": [
    "##### 用花括号匹配特定次数\n",
    "如果想要一个分组重复特定次数，就在正则表达式中该分组的后面，跟上花括\n",
    "号包围的数字。    \n",
    "例如，正则表达式(Ha){3}将匹配字符串'HaHaHa'，但不会匹配'HaHa'，\n",
    "因为后者只重复了(Ha)分组两次。    \n",
    "除了一个数字，还可以指定一个范围，即在花括号中写下一个最小值、一个逗号和\n",
    "一个最大值。    \n",
    "例如，正则表达式(Ha){3,5}将匹配'HaHaHa'、 'HaHaHaHa'和'HaHaHaHaHa'。   \n",
    "也可以不写花括号中的第一个或第二个数字， 不限定最小值或最大值。    \n",
    "例如，第 7 章 模式匹配与正则表达式\n",
    "(Ha){3,}将匹配 3 次或更多次实例， (Ha){,5}将匹配 0 到 5 次实例。花括号让正则表\n",
    "达式更简短"
   ]
  },
  {
   "cell_type": "code",
   "execution_count": 36,
   "metadata": {},
   "outputs": [
    {
     "data": {
      "text/plain": [
       "'HaHaHa'"
      ]
     },
     "execution_count": 36,
     "metadata": {},
     "output_type": "execute_result"
    }
   ],
   "source": [
    "haRegex = re.compile(r'(Ha){3}')\n",
    "mo1 = haRegex.search('HaHaHa')\n",
    "mo1.group()"
   ]
  },
  {
   "cell_type": "code",
   "execution_count": 37,
   "metadata": {},
   "outputs": [
    {
     "data": {
      "text/plain": [
       "True"
      ]
     },
     "execution_count": 37,
     "metadata": {},
     "output_type": "execute_result"
    }
   ],
   "source": [
    "mo2 = haRegex.search('Ha')\n",
    "mo2 == None"
   ]
  },
  {
   "cell_type": "markdown",
   "metadata": {},
   "source": [
    "#### 贪心和非贪心匹配\n",
    "Python 的正则表达式默认是“贪心” 的， 这表示在有二义的情况下，它们会尽\n",
    "可能匹配最长的字符串。花括号的“非贪心” 版本匹配尽可能最短的字符串，即在\n",
    "结束的花括号后跟着一个问号。\n",
    "在交互式环境中输入以下代码， 注意在查找相同字符串时， 花括号的贪心形式\n",
    "和非贪心形式之间的区别："
   ]
  },
  {
   "cell_type": "code",
   "execution_count": 38,
   "metadata": {},
   "outputs": [
    {
     "data": {
      "text/plain": [
       "'HaHaHaHaHa'"
      ]
     },
     "execution_count": 38,
     "metadata": {},
     "output_type": "execute_result"
    }
   ],
   "source": [
    "greedyHaRegex = re.compile(r'(Ha){3,5}')\n",
    "mo1 = greedyHaRegex.search('HaHaHaHaHa')\n",
    "mo1.group()"
   ]
  },
  {
   "cell_type": "code",
   "execution_count": 39,
   "metadata": {},
   "outputs": [
    {
     "data": {
      "text/plain": [
       "'HaHaHa'"
      ]
     },
     "execution_count": 39,
     "metadata": {},
     "output_type": "execute_result"
    }
   ],
   "source": [
    "nongreedyHaRegex = re.compile(r'(Ha){3,5}?')\n",
    "mo2 = nongreedyHaRegex.search('HaHaHaHaHa')\n",
    "mo2.group()"
   ]
  },
  {
   "cell_type": "markdown",
   "metadata": {},
   "source": [
    "### findall()方法\n",
    "findall()方法将返回一组\n",
    "字符串， 包含被查找字符串中的所有匹配。"
   ]
  },
  {
   "cell_type": "code",
   "execution_count": 40,
   "metadata": {},
   "outputs": [
    {
     "data": {
      "text/plain": [
       "['415-555-9999', '212-555-0000']"
      ]
     },
     "execution_count": 40,
     "metadata": {},
     "output_type": "execute_result"
    }
   ],
   "source": [
    "phoneNumRegex = re.compile(r'\\d\\d\\d-\\d\\d\\d-\\d\\d\\d\\d') # has no groups\n",
    "phoneNumRegex.findall('Cell: 415-555-9999 Work: 212-555-0000')"
   ]
  },
  {
   "cell_type": "markdown",
   "metadata": {},
   "source": [
    "如果在正则表达式中有分组， 那么 findall 将返回元组的列表。每个元组表示一个找\n",
    "到的匹配， 其中的项就是正则表达式中每个分组的匹配字符串。为了看看 findall()的效果，\n",
    "请在交互式环境中输入以下代码（请注意， 被编译的正则表达式现在有括号分组）："
   ]
  },
  {
   "cell_type": "code",
   "execution_count": 42,
   "metadata": {},
   "outputs": [
    {
     "data": {
      "text/plain": [
       "[('415', '555', '9999'), ('212', '555', '0000')]"
      ]
     },
     "execution_count": 42,
     "metadata": {},
     "output_type": "execute_result"
    }
   ],
   "source": [
    "phoneNumRegex = re.compile(r'(\\d\\d\\d)-(\\d\\d\\d)-(\\d\\d\\d\\d)') # has groups\n",
    "phoneNumRegex.findall('Cell: 415-555-9999 Work: 212-555-0000')"
   ]
  },
  {
   "cell_type": "markdown",
   "metadata": {},
   "source": [
    "### 字符分类"
   ]
  },
  {
   "cell_type": "markdown",
   "metadata": {},
   "source": [
    "##### 缩写字符分类 表示\n",
    "\\d 0 到 9 的任何数字    \n",
    "\\D 除 0 到 9 的数字以外的任何字符第 7 章 模式匹配与正则表达式   \n",
    "\\w 任何字母、数字或下划线字符（可以认为是匹配“单词”字符）   \n",
    "\\W 除字母、数字和下划线以外的任何字符     \n",
    "\\s 空格、制表符或换行符（可以认为是匹配“空白”字符）    \n",
    "\\S 除空格、制表符和换行符以外的任何字符    "
   ]
  },
  {
   "cell_type": "code",
   "execution_count": 44,
   "metadata": {},
   "outputs": [
    {
     "data": {
      "text/plain": [
       "['12 drummers',\n",
       " '11 pipers',\n",
       " '10 lords',\n",
       " '9 ladies',\n",
       " '8 maids',\n",
       " '6 geese',\n",
       " '5 rings',\n",
       " '4 birds',\n",
       " '3 hens',\n",
       " '2 doves',\n",
       " '1 partridge']"
      ]
     },
     "execution_count": 44,
     "metadata": {},
     "output_type": "execute_result"
    }
   ],
   "source": [
    "xmasRegex = re.compile(r'\\d+\\s\\w+')\n",
    "xmasRegex.findall('12 drummers, 11 pipers, 10 lords, 9 ladies, 8 maids, 7s, 6 geese, 5 rings, 4 birds, 3 hens, 2 doves, 1 partridge')"
   ]
  },
  {
   "cell_type": "markdown",
   "metadata": {},
   "source": [
    "##### 建立自己的字符分类"
   ]
  },
  {
   "cell_type": "code",
   "execution_count": 45,
   "metadata": {},
   "outputs": [
    {
     "data": {
      "text/plain": [
       "['o', 'o', 'o', 'e', 'a', 'a', 'o', 'o', 'A', 'O', 'O']"
      ]
     },
     "execution_count": 45,
     "metadata": {},
     "output_type": "execute_result"
    }
   ],
   "source": [
    "vowelRegex = re.compile(r'[aeiouAEIOU]')\n",
    "vowelRegex.findall('RoboCop eats baby food. BABY FOOD.')"
   ]
  },
  {
   "cell_type": "markdown",
   "metadata": {},
   "source": [
    "###### 通过在字符分类的左方括号后加上一个插入字符（^）， 就可以得到“非字符类”。\n",
    "非字符类将匹配不在这个字符类中的所有字符"
   ]
  },
  {
   "cell_type": "code",
   "execution_count": 49,
   "metadata": {},
   "outputs": [
    {
     "data": {
      "text/plain": [
       "['R',\n",
       " 'b',\n",
       " 'C',\n",
       " 'p',\n",
       " ' ',\n",
       " 't',\n",
       " 's',\n",
       " ' ',\n",
       " 'b',\n",
       " 'b',\n",
       " 'y',\n",
       " ' ',\n",
       " 'f',\n",
       " 'd',\n",
       " '.',\n",
       " ' ',\n",
       " 'B',\n",
       " 'B',\n",
       " 'Y',\n",
       " ' ',\n",
       " 'F',\n",
       " 'D',\n",
       " '.']"
      ]
     },
     "execution_count": 49,
     "metadata": {},
     "output_type": "execute_result"
    }
   ],
   "source": [
    "consonantRegex = re.compile(r'[^aeiouAEIOU]')\n",
    "consonantRegex.findall('RoboCop eats baby food. BABY FOOD.')"
   ]
  },
  {
   "cell_type": "markdown",
   "metadata": {},
   "source": [
    "##### 插入字符和美元字符\n",
    "可以在正则表达式的开始处使用插入符号（^），表明匹配必须发生在被查找文\n",
    "本开始处。类似地，可以再正则表达式的末尾加上美元符号（$），表示该字符串必\n",
    "须以这个正则表达式的模式结束。可以同时使用^和$，表明整个字符串必须匹配该\n",
    "模式，也就是说，只匹配该字符串的某个子集是不够的"
   ]
  },
  {
   "cell_type": "code",
   "execution_count": 50,
   "metadata": {},
   "outputs": [
    {
     "data": {
      "text/plain": [
       "<re.Match object; span=(0, 10), match='1234567890'>"
      ]
     },
     "execution_count": 50,
     "metadata": {},
     "output_type": "execute_result"
    }
   ],
   "source": [
    "wholeStringIsNum = re.compile(r'^\\d+$')\n",
    "wholeStringIsNum.search('1234567890')"
   ]
  },
  {
   "cell_type": "code",
   "execution_count": 51,
   "metadata": {},
   "outputs": [
    {
     "data": {
      "text/plain": [
       "True"
      ]
     },
     "execution_count": 51,
     "metadata": {},
     "output_type": "execute_result"
    }
   ],
   "source": [
    "wholeStringIsNum.search('12345xyz67890') == None"
   ]
  },
  {
   "cell_type": "code",
   "execution_count": 52,
   "metadata": {},
   "outputs": [
    {
     "data": {
      "text/plain": [
       "True"
      ]
     },
     "execution_count": 52,
     "metadata": {},
     "output_type": "execute_result"
    }
   ],
   "source": [
    "wholeStringIsNum.search('12 34567890') == None"
   ]
  },
  {
   "cell_type": "markdown",
   "metadata": {},
   "source": [
    "#### 通配字符\n",
    "在正则表达式中， .（句点）字符称为“通配符”。它匹配除了换行之外的所有\n",
    "字符。    \n",
    "#### 用点-星匹配所有字符\n",
    "有时候想要匹配所有字符串。例如，假定想要匹配字符串'First Name:'，接下来\n",
    "是任意文本，接下来是'Last Name:'，然后又是任意文本。可以用点-星（ .*）表示“任\n",
    "意文本”。回忆一下，句点字符表示“除换行外所有单个字符”，星号字符表示“前\n",
    "面字符出现零次或多次”。　　　　\n",
    "\n",
    "点-星使用“贪心” 模式：它总是匹配尽可能多的文本。要用“非贪心” 模式匹配\n",
    "所有文本， 就使用点-星和问号。像和大括号一起使用时那样， 问号告诉 Python 用非贪\n",
    "心模式匹配。"
   ]
  },
  {
   "cell_type": "code",
   "execution_count": 53,
   "metadata": {},
   "outputs": [
    {
     "data": {
      "text/plain": [
       "['cat', 'hat', 'sat', 'lat', 'mat']"
      ]
     },
     "execution_count": 53,
     "metadata": {},
     "output_type": "execute_result"
    }
   ],
   "source": [
    "atRegex = re.compile(r'.at')\n",
    "atRegex.findall('The cat in the hat sat on the flat mat.')"
   ]
  },
  {
   "cell_type": "code",
   "execution_count": 61,
   "metadata": {},
   "outputs": [
    {
     "data": {
      "text/plain": [
       "('Al', 'Sweigart')"
      ]
     },
     "execution_count": 61,
     "metadata": {},
     "output_type": "execute_result"
    }
   ],
   "source": [
    "nameRegex = re.compile(r'First Name: (.*) Last Name: (.*)')\n",
    "mo = nameRegex.search('First Name: Al Last Name: Sweigart')\n",
    "mo.group(1),mo.group(2)"
   ]
  },
  {
   "cell_type": "markdown",
   "metadata": {},
   "source": [
    "##### 7.9.2 用句点字符匹配换行\n",
    "点-星将匹配除换行外的所有字符。通过传入 re.DOTALL 作为 re.compile()的第\n",
    "二个参数， 可以让句点字符匹配所有字符， 包括换行字符"
   ]
  },
  {
   "cell_type": "code",
   "execution_count": 62,
   "metadata": {},
   "outputs": [
    {
     "data": {
      "text/plain": [
       "'Serve the public trust.'"
      ]
     },
     "execution_count": 62,
     "metadata": {},
     "output_type": "execute_result"
    }
   ],
   "source": [
    "noNewlineRegex = re.compile('.*')\n",
    "noNewlineRegex.search('Serve the public trust.\\nProtect the innocent.\\nUphold the law.').group()"
   ]
  },
  {
   "cell_type": "code",
   "execution_count": 63,
   "metadata": {},
   "outputs": [
    {
     "data": {
      "text/plain": [
       "'Serve the public trust.\\nProtect the innocent.\\nUphold the law.'"
      ]
     },
     "execution_count": 63,
     "metadata": {},
     "output_type": "execute_result"
    }
   ],
   "source": [
    "newlineRegex = re.compile('.*', re.DOTALL)\n",
    "newlineRegex.search('Serve the public trust.\\nProtect the innocent.\\nUphold the law.').group()"
   ]
  },
  {
   "cell_type": "code",
   "execution_count": 64,
   "metadata": {},
   "outputs": [
    {
     "data": {
      "text/plain": [
       "'RoboCop'"
      ]
     },
     "execution_count": 64,
     "metadata": {},
     "output_type": "execute_result"
    }
   ],
   "source": [
    "robocop = re.compile(r'robocop', re.I)\n",
    "robocop.search('RoboCop is part man, part machine, all cop.').group()"
   ]
  },
  {
   "cell_type": "markdown",
   "metadata": {},
   "source": [
    "#### 用 sub()方法替换字符串\n",
    "正则表达式不仅能找到文本模式， 而且能够用新的文本替换掉这些模式。 Regex\n",
    "对象的 sub()方法需要传入两个参数。第一个参数是一个字符串， 用于取代发现的匹\n",
    "配。第二个参数是一个字符串，即正则表达式。 sub()方法返回替换完成后的字符串。"
   ]
  },
  {
   "cell_type": "code",
   "execution_count": 65,
   "metadata": {
    "scrolled": true
   },
   "outputs": [
    {
     "data": {
      "text/plain": [
       "'CENSORED gave the secret documents to CENSORED.'"
      ]
     },
     "execution_count": 65,
     "metadata": {},
     "output_type": "execute_result"
    }
   ],
   "source": [
    "namesRegex = re.compile(r'Agent \\w+')\n",
    "namesRegex.sub('CENSORED', 'Agent Alice gave the secret documents to Agent Bob.')"
   ]
  },
  {
   "cell_type": "code",
   "execution_count": 66,
   "metadata": {},
   "outputs": [],
   "source": [
    "#告诉 re.compile()， 忽略正则表达式字符串中的空白符和注释， 从而缓解这一点。 \n",
    "#要实现这种详细模式， 可以向 re.compile()传入变量 re.VERBOSE， 作为第二个参数\n",
    "phoneRegex = re.compile(r'''(\n",
    "(\\d{3}|\\(\\d{3}\\))? # area code\n",
    "(\\s|-|\\.)? # separatorPython 编程快速上手——让繁琐工作自动化\n",
    "\\d{3} # first 3 digits\n",
    "(\\s|-|\\.) # separator\n",
    "\\d{4} # last 4 digits\n",
    "(\\s*(ext|x|ext.)\\s*\\d{2,5})? # extension\n",
    ")''', re.VERBOSE)\n",
    "# 前面的例子使用了三重引号('\")， 创建了一个多行字符串。这样就可以将正则表达式定义放在多行中， 让它更可读"
   ]
  },
  {
   "cell_type": "markdown",
   "metadata": {},
   "source": [
    "#### 组合使用 re.IGNOREC ASE、 re.DOTALL 和 re.VERBOSE\n",
    "可以使用管道字符（|）将变量组合起来，从而绕过这个限\n",
    "制。管道字符在这里称为“按位或”操作符。"
   ]
  },
  {
   "cell_type": "code",
   "execution_count": 67,
   "metadata": {},
   "outputs": [],
   "source": [
    "someRegexValue = re.compile('foo', re.IGNORECASE | re.DOTALL | re.VERBOSE)"
   ]
  },
  {
   "cell_type": "markdown",
   "metadata": {},
   "source": [
    "## 项目： 电话号码和 E-mail 地址提取程序\n",
    "假设你有一个无聊的任务， 要在一篇长的网页或文章中， 找出所有电话号码和\n",
    "邮件地址。如果手动翻页， 可能需要查找很长时间。如果有一个程序， 可以在剪贴\n",
    "板的文本中查找电话号码和 E-mail 地址， 那你就只要按一下 Ctrl-A 选择所有文本，\n",
    "按下 Ctrl-C 将它复制到剪贴板， 然后运行你的程序。它会用找到的电话号码和 E-mail\n",
    "地址， 替换掉剪贴板中的文本。\n",
    "当你开始接手一个新项目时， 很容易想要直接开始写代码。但更多的时候， 最\n",
    "好是后退一步， 考虑更大的图景。我建议先草拟高层次的计划， 弄清楚程序需要做\n",
    "什么。暂时不要思考真正的代码， 稍后再来考虑。现在，先关注大框架。    \n",
    "例如， 你的电话号码和 E-mail 地址提取程序需要完成以下任务：    \n",
    " 从剪贴板取得文本。   \n",
    " 找出文本中所有的电话号码和 E-mail 地址。    \n",
    " 将它们粘贴到剪贴板。    \n",
    "现在你可以开始思考， 如何用代码来完成工作。代码需要做下面的事情：   \n",
    " 使用 pyperclip 模块复制和粘贴字符串。    \n",
    " 创建两个正则表达式，一个匹配电话号码，另一个匹配 E-mail 地址。   \n",
    " 对两个正则表达式，找到所有的匹配，而不只是第一次匹配。   \n",
    " 将匹配的字符串整理好格式，放在一个字符串中，用于粘贴。   \n",
    " 如果文本中没有找到匹配，显示某种消息。    \n",
    "这个列表就像项目的路线图。在编写代码时， 可以独立地关注其中的每一步。   \n",
    "每一步都很好管理。 它的表达方式让你知道在 Python 中如何去做。"
   ]
  },
  {
   "cell_type": "markdown",
   "metadata": {},
   "source": [
    "### 第 1 步： 为电话号码创建一个正则表达式"
   ]
  },
  {
   "cell_type": "code",
   "execution_count": 69,
   "metadata": {},
   "outputs": [],
   "source": [
    "import pyperclip, re\n",
    "phoneRegex = re.compile(r'''(\n",
    "(\\d{3}|\\(\\d{3}\\))? # area code\n",
    "(\\s|-|\\.)? # separator\n",
    "(\\d{3}) # first 3 digits\n",
    "(\\s|-|\\.) # separator\n",
    "(\\d{4}) # last 4 digits\n",
    "(\\s*(ext|x|ext.)\\s*(\\d{2,5}))? # extension\n",
    ")''', re.VERBOSE)"
   ]
  },
  {
   "cell_type": "markdown",
   "metadata": {},
   "source": [
    "电话号码从一个“可选的” 区号开始， 所以区号分组跟着一个问号。因为区号\n",
    "可能只是 3 个数字（即\\d{3}）， 或括号中的 3 个数字（即\\(\\d{3}\\)）， 所以应该用管\n",
    "道符号连接这两部分。可以对这部分多行字符串加上正则表达式注释# Area code，\n",
    "帮助你记忆(\\d{3}|\\(\\d{3}\\))?要匹配的是什么。   \n",
    "电话号码分割字符可以是空格（\\s）、 短横（-） 或句点（.）， 所以这些部分也应\n",
    "该用管道连接。    \n",
    "这个正则表达式接下来的几部分很简单：    \n",
    "3 个数字，    \n",
    "接下来是另一个分割符，     \n",
    "接下来是 4 个数字。    \n",
    "最后的部分是可选的分机号，包括任意数目的空格，   \n",
    "接着 ext、 x 或 ext.， 再接着 2 到 5 位数字。"
   ]
  },
  {
   "cell_type": "markdown",
   "metadata": {},
   "source": [
    "### 第 2 步： 为 E-mail 地址创建一个正则表达式"
   ]
  },
  {
   "cell_type": "code",
   "execution_count": 77,
   "metadata": {},
   "outputs": [],
   "source": [
    "#create email regex.\n",
    "emailRegex=re.compile(r'''(\n",
    "    [a-zA-Z0-9._%+-]+   #username\n",
    "    @                   #symbol\n",
    "    [a-zA-Z0-9.-]%      #domain name\n",
    "    (\\.[a-zA-Z]{2,4})   #dot-something\n",
    "\n",
    ")''',re.VERBOSE)"
   ]
  },
  {
   "cell_type": "markdown",
   "metadata": {},
   "source": [
    "E-mail 地址的用户名部分是一个或多个字符，字符可以包括： 小写和大写字\n",
    "母、 数字、句点、 下划线、 百分号、 加号或短横。可以将所有这些放入一个字符分\n",
    "类： [a-zA-Z0-9._%+-]。     \n",
    "\n",
    "域名和用户名用@符号分割，域名允许的字符分类要少一些，只允许字母、\n",
    "数字、句点和短横： [a-zA-Z0-9.-]。\n",
    "\n",
    "最后是“dot-com”部分（技术上称为“顶级域名”），它实际上可以是“dot-anything”。它有 2 到 4 个字符。\n",
    "E-mail 地址的格式有许多奇怪的规则。这个正则表达式不会匹配所有可能的、\n",
    "有效的 E-mail 地址， 但它会匹配你遇到的大多数典型的电子邮件地址。"
   ]
  },
  {
   "cell_type": "markdown",
   "metadata": {},
   "source": [
    "### 第 3 步：在剪贴板文本中找到所有匹配\n",
    "既然已经指定了电话号码和电子邮件地址的正则表达式， 就可以让 Python 的 re\n",
    "模块做辛苦的工作， 查找剪贴板文本中所有的匹配。 pyperclip.paste()函数将取得一个\n",
    "字符串， 内容是剪贴板上的文本， findall()正则表达式方法将返回一个元组的列表"
   ]
  },
  {
   "cell_type": "code",
   "execution_count": 84,
   "metadata": {},
   "outputs": [],
   "source": [
    "# Find matches in clipboard text.\n",
    "text = str(pyperclip.paste())\n",
    "matches = []\n",
    "for groups in phoneRegex.findall(text):\n",
    "    phoneNum = '-'.join([groups[1], groups[3], groups[5]])\n",
    "    if groups[8] != '':\n",
    "        phoneNum += ' x' + groups[8]\n",
    "    matches.append(phoneNum)\n",
    "for groups in emailRegex.findall(text):\n",
    "    matches.append(groups[0])"
   ]
  },
  {
   "cell_type": "markdown",
   "metadata": {},
   "source": [
    "###### \n",
    "每个匹配对应一个元组， 每个元组包含正则表达式中每个分组的字符串。回忆一\n",
    "下， 分组 0 匹配整个正则表达式， 所以在元组下标 0 处的分组， 就是你感兴趣的内容。\n",
    "在处可以看到， 你将所有的匹配保存在名为 matches 的列表变量中。 它从一\n",
    "个空列表开始， 经过几个 for 循环。对于 E-mail 地址， 你将每次匹配的分组 0 添加\n",
    "到列表中。对于匹配的电话号码， 你不想只是添加分组 0。虽然程序可以“检测”\n",
    "几种不同形式的电话号码， 你希望添加的电话号码是唯一的、 标准的格式。\n",
    "phoneNum 变量包含一个字符串，它由匹配文本的分组 1、 3、 5 和 8 构成。（这些\n",
    "分组是区号、 前 3 个数字、 后 4 个数字和分机号。）"
   ]
  },
  {
   "cell_type": "markdown",
   "metadata": {},
   "source": [
    "### 第 4 步： 所有匹配连接成一个字符串， 复制到剪贴板"
   ]
  },
  {
   "cell_type": "code",
   "execution_count": 86,
   "metadata": {},
   "outputs": [
    {
     "name": "stdout",
     "output_type": "stream",
     "text": [
      "No phone numbers or email addresses found.\n"
     ]
    }
   ],
   "source": [
    "for groups in emailRegex.findall(text):\n",
    "    matches.append(groups[0])\n",
    "# Copy results to the clipboard.\n",
    "if len(matches) > 0:\n",
    "    pyperclip.copy('\\n'.join(matches))\n",
    "    print('Copied to clipboard:')\n",
    "    print('\\n'.join(matches))\n",
    "else:\n",
    "    print('No phone numbers or email addresses found.')"
   ]
  },
  {
   "cell_type": "markdown",
   "metadata": {},
   "source": [
    "###### 类似程序的构想\n",
    "识别文本的模式（并且可能用 sub()方法替换它们） 有许多不同潜在的应用。\n",
    " 寻找网站的 URL，它们以 http://或 https://开始。\n",
    " 整理不同日期格式的日期（诸如 3/14/2015、 03-14-2015 和 2015/3/14），用唯一\n",
    "的标准格式替代。\n",
    " 删除敏感的信息，诸如社会保险号或信用卡号。\n",
    " 寻找常见打字错误，诸如单词间的多个空格、不小心重复的单词，或者句子末\n",
    "尾处多个感叹号。它们很烦人！！\n",
    "7.16 小结\n",
    "虽然计算机可以很快地查找文本， 但你必须精确地告诉它要找什么。 正则表达\n",
    "式让你精确地指明要找的文本模式。实际上， 某些文字处理和电子表格应用提供了\n",
    "查找替换功能， 让你使用正则表达式进行查找。\n",
    "Python 自带的 re 模块让你编译 Regex 对象。该对象有几种方法： search()查找\n",
    "单词匹配， findall()查找所有匹配实例， sub()对文本进行查找和替换。\n",
    "除本章介绍的语法以外， 还有一些正则表达式语法。你可以在官方 Python 文档\n",
    "中找到更多内容： http://docs.python.org/3/library/re.html。指南网站 http://www.regularexpressions.info/也是很有用的资源。\n",
    "既然已经掌握了如何操纵和匹配字符串，接下来就该学习如何在计算机硬盘上\n",
    "读写文件了"
   ]
  },
  {
   "cell_type": "code",
   "execution_count": null,
   "metadata": {},
   "outputs": [],
   "source": []
  }
 ],
 "metadata": {
  "kernelspec": {
   "display_name": "Python 3",
   "language": "python",
   "name": "python3"
  },
  "language_info": {
   "codemirror_mode": {
    "name": "ipython",
    "version": 3
   },
   "file_extension": ".py",
   "mimetype": "text/x-python",
   "name": "python",
   "nbconvert_exporter": "python",
   "pygments_lexer": "ipython3",
   "version": "3.7.0"
  }
 },
 "nbformat": 4,
 "nbformat_minor": 2
}
